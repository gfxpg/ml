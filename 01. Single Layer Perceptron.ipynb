{
 "cells": [
  {
   "cell_type": "markdown",
   "metadata": {},
   "source": [
    "# Single Layer Perceptron\n",
    "\n",
    "_Single-layer perceptron_ is the simplest instance of a neural network, where the output is the result of applying a _Heaviside activation function_ to a weighted sum of inputs.\n",
    "\n",
    "The perceptron is defined as $z = H(w^Tx - b)$, where $x$ is a vector of inputs, $w$ is the vector of weights (by definition of the dot product, $||w|| = ||x||$), $b$ is the activation threshold (bias), and $H$ is the activation function, $$H(x) = \\begin{cases}1 \\text{ if } x \\geq 0,\\\\ 0 \\text{ otherwise}\\end{cases}$$\n",
    "\n",
    "When computing the sum, we can treat the bias as a weight applied to a constant input ($-1$)."
   ]
  },
  {
   "cell_type": "code",
   "execution_count": 1,
   "metadata": {},
   "outputs": [],
   "source": [
    "import numpy as np\n",
    "\n",
    "def wsum(inputs, weights, bias):\n",
    "  inputs_w_bias = np.append(inputs, -1)\n",
    "  weights_w_bias = np.append(weights, bias)\n",
    "  \n",
    "  return np.dot(inputs_w_bias, weights_w_bias)\n",
    "\n",
    "def H(x): return 1 if x >= 0 else 0"
   ]
  },
  {
   "cell_type": "markdown",
   "metadata": {},
   "source": [
    "## Learning\n",
    "\n",
    "Weights and bias are learned by _training_ the network on input vectors $\\{x_1, ..., x_n\\}$ and corresponding desired outputs $\\{y_1, ..., y_n\\}$. The goal of training is to find such $w$ and $b$ so that all inputs produce desired outputs, starting from some initial (random) $w$ and $b$. The learning proceeds as follows:\n",
    "\n",
    "For each input vector, the output of the perceptron is computed and compared to the desired value. If they match, we advance to the next input. Otherwise, we update the weights, $w'_{i} = w_i \\pm x_i$ (with $+$ in case of a false negative, $-$ in case of a false positive) and the bias, $b' = b \\pm 0.1$, where 0.1 is just an arbitrary rate of learning.\n",
    "\n",
    "We reiterate through inputs until all of them produce correct outputs."
   ]
  },
  {
   "cell_type": "code",
   "execution_count": 2,
   "metadata": {},
   "outputs": [],
   "source": [
    "def learn(inputs, outputs):\n",
    "  return learn_step(inputs, outputs, weights = np.random.rand(len(inputs[0])), bias = .0)\n",
    "\n",
    "def learn_step(inputs, outputs, weights, bias):\n",
    "  all_correct = True\n",
    "  \n",
    "  for (training_input, desired_output) in zip(inputs, outputs):\n",
    "    actual_output = H(wsum(training_input, weights, bias))\n",
    "\n",
    "    all_correct &= actual_output == desired_output\n",
    "\n",
    "    if actual_output < desired_output:\n",
    "      print(f'{training_input} yielded a false negative, incrementing the weights')\n",
    "      new_weights = weights + training_input\n",
    "      bias = bias - 0.1\n",
    "    elif actual_output > desired_output:\n",
    "      print(f'{training_input} yielded a false positive, decrementing the weights')\n",
    "      new_weights = weights - training_input\n",
    "      bias = bias + 0.1\n",
    "    else:\n",
    "      print(f'{training_input} yielded a correct result')\n",
    "\n",
    "  if all_correct:\n",
    "    print('All training samples return correct outputs, halting')\n",
    "    return (weights, bias)\n",
    "  else:\n",
    "    print('Some of the outputs did not match desired values, performing another iteration')\n",
    "    return learn_step(inputs, outputs, weights, bias)"
   ]
  },
  {
   "cell_type": "markdown",
   "metadata": {},
   "source": [
    "## Example\n",
    "\n",
    "As an example, let's proceed to implement the OR binary function as a perceptron."
   ]
  },
  {
   "cell_type": "code",
   "execution_count": 3,
   "metadata": {},
   "outputs": [
    {
     "name": "stdout",
     "output_type": "stream",
     "text": [
      "[0, 0] yielded a false positive, decrementing the weights\n",
      "[0, 1] yielded a correct result\n",
      "[1, 0] yielded a correct result\n",
      "[1, 1] yielded a correct result\n",
      "Some of the outputs did not match desired values, performing another iteration\n",
      "[0, 0] yielded a correct result\n",
      "[0, 1] yielded a correct result\n",
      "[1, 0] yielded a correct result\n",
      "[1, 1] yielded a correct result\n",
      "All training samples return correct outputs, halting\n",
      "Final weights are [0.16481331 0.43845237], bias is 0.1\n"
     ]
    }
   ],
   "source": [
    "inputs_or = [[a, b] for a in [0, 1] for b in [0, 1]]\n",
    "outputs_or = [a | b for [a, b] in inputs_or]\n",
    "\n",
    "(weights_or, bias_or) = learn(inputs_or, outputs_or)\n",
    "print(f'Final weights are {weights_or}, bias is {bias_or}')"
   ]
  },
  {
   "cell_type": "markdown",
   "metadata": {},
   "source": [
    "We can visualize the decision boundary of the perceptron:"
   ]
  },
  {
   "cell_type": "code",
   "execution_count": 6,
   "metadata": {},
   "outputs": [
    {
     "data": {
      "image/png": "[encoded data removed]",
      "text/plain": [
       "<Figure size 432x288 with 1 Axes>"
      ]
     },
     "metadata": {},
     "output_type": "display_data"
    }
   ],
   "source": [
    "import matplotlib.pyplot as plt\n",
    "\n",
    "def plot_decision_boundary(inputs, outputs, weights, bias):\n",
    "  inputs = np.array(inputs)\n",
    "  \n",
    "  pts = np.arange(inputs.min() - 0.1, inputs.max() + 0.1, .006)\n",
    "  xs, ys = np.meshgrid(pts, pts)\n",
    "  zs = np.array([H(wsum(inps, weights, bias))\n",
    "                 for inps in np.c_[xs.ravel(), ys.ravel()]]).reshape(xs.shape)\n",
    "\n",
    "  fig, ax = plt.subplots()\n",
    "  ax.contourf(xs, ys, zs, cmap=plt.cm.Paired_r)\n",
    "  ax.scatter(np.array(inputs)[:, 0], np.array(inputs_or)[:, 1], c=outputs, cmap=plt.cm.Paired)\n",
    "  \n",
    "plot_decision_boundary(inputs_or, outputs_or, weights_or, bias_or)"
   ]
  },
  {
   "cell_type": "markdown",
   "metadata": {},
   "source": [
    "Let's do the same for binary AND:"
   ]
  },
  {
   "cell_type": "code",
   "execution_count": 10,
   "metadata": {},
   "outputs": [
    {
     "name": "stdout",
     "output_type": "stream",
     "text": [
      "[0, 0] yielded a false positive, decrementing the weights\n",
      "[0, 1] yielded a false positive, decrementing the weights\n",
      "[1, 0] yielded a false positive, decrementing the weights\n",
      "[1, 1] yielded a correct result\n",
      "Some of the outputs did not match desired values, performing another iteration\n",
      "[0, 0] yielded a correct result\n",
      "[0, 1] yielded a correct result\n",
      "[1, 0] yielded a false positive, decrementing the weights\n",
      "[1, 1] yielded a correct result\n",
      "Some of the outputs did not match desired values, performing another iteration\n",
      "[0, 0] yielded a correct result\n",
      "[0, 1] yielded a correct result\n",
      "[1, 0] yielded a correct result\n",
      "[1, 1] yielded a correct result\n",
      "All training samples return correct outputs, halting\n",
      "Final weights are [0.31331578 0.25963938], bias is 0.4\n"
     ]
    },
    {
     "data": {
      "image/png": "[encoded data removed]",
      "text/plain": [
       "<Figure size 432x288 with 1 Axes>"
      ]
     },
     "metadata": {},
     "output_type": "display_data"
    }
   ],
   "source": [
    "inputs_and = [[a, b] for a in [0, 1] for b in [0, 1]]\n",
    "outputs_and = [a & b for [a, b] in inputs_or]\n",
    "\n",
    "(weights_and, bias_and) = learn(inputs_and, outputs_and)\n",
    "print(f'Final weights are {weights_and}, bias is {bias_and}')\n",
    "\n",
    "plot_decision_boundary(inputs_and, outputs_and, weights_and, bias_and)"
   ]
  },
  {
   "cell_type": "markdown",
   "metadata": {},
   "source": [
    "The key takeaway is, a single perceptron can only classify linearly separable patterns, which severely limits the number of problems it _can_ solve. Even certain binary functions (XOR) are out of its reach.\n",
    "\n",
    "To overcome this, larger networks have several perceptrons stacked in a _layer_. At least one of the layers (called a _hidden_ layer) acts as an input to the succeeding one. This makes training more complicated, since the relationship between the weights of hidden layers and network output is not linear."
   ]
  }
 ],
 "metadata": {
  "kernelspec": {
   "display_name": "Python 3",
   "language": "python",
   "name": "python3"
  },
  "language_info": {
   "codemirror_mode": {
    "name": "ipython",
    "version": 3
   },
   "file_extension": ".py",
   "mimetype": "text/x-python",
   "name": "python",
   "nbconvert_exporter": "python",
   "pygments_lexer": "ipython3",
   "version": "3.6.5"
  }
 },
 "nbformat": 4,
 "nbformat_minor": 2
}
