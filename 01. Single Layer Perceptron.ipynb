{
 "cells": [
  {
   "cell_type": "markdown",
   "metadata": {},
   "source": [
    "# Single Layer Perceptron\n",
    "\n",
    "Let's explore _perceptron_, a single-layer (inputs are fed directly to outputs via a series of weights) feedforward (connections between nodes do not form cycles) neural network. It can classify linearly separable patterns.\n",
    "\n",
    "Formally, it is defined as $y = f(w^Tx - b)$, where $w$ is a vector of weights, $x$ is the vector of inputs, $||w|| = ||x||$ (by definition of multiplication), $b$ is the activation threshold (bias), and $f(x)$ is the activation function.\n",
    "\n",
    "The learning algorithm, given a set of input vectors $\\{x_1, ..., x_N\\}$ and a corresponding set of desired labels $\\{y_1, ..., y_N\\}$, finds such a vector of weights $w$ that classifies all examples correctly, starting from some initial (random) vector $w$. It takes inputs one by one, calculates the label, and proceeds to the next input if the classification is correct. Otherwise, it calculates a new $w_{i+1} = w_i \\pm x$ ($+$ in case of a false positive, $-$ in case of a false negative). The algorithm reiterates through inputs until none of them are misclassified.\n",
    "\n",
    "As an example, let's proceed to implement a couple of simple binary functions as perceptrons. The activation function will be $f(x) = \\begin{cases}1 \\text{ if } x \\geq 0,\\\\ 0 \\text{ otherwise}\\end{cases}$"
   ]
  },
  {
   "cell_type": "code",
   "execution_count": 1,
   "metadata": {},
   "outputs": [],
   "source": [
    "import Numeric.LinearAlgebra (Vector(..), vector, rand, flatten, (<.>))\n",
    "import Control.Monad.Writer\n",
    "\n",
    "-- Perceptron applies the activation function to a dot product of \n",
    "perceptron :: Vector Double -> Vector Double -> Double -> Double\n",
    "perceptron input weights bias\n",
    "  | input <.> weights - bias > 0 = 1.0\n",
    "  | otherwise = 0.0\n",
    "\n",
    "-- The learning function accepts a list of (input vector, corresponding label) tuples\n",
    "-- and an initial vector of weights.\n",
    "learn :: [(Vector Double, Double)] -> Vector Double -> Writer String (Vector Double)\n",
    "learn labelledInputs initialWeights = go labelledInputs initialWeights False\n",
    "  where\n",
    "    -- The boolean indicates whether we should perform another iteration on the input set.\n",
    "    go :: [(Vector Double, Double)] -> Vector Double -> Bool -> Writer String (Vector Double)\n",
    "    go [] ws False = \n",
    "      tell \"All inputs have been classified correctly, halting\" >> pure ws\n",
    "    go [] ws True =\n",
    "      tell \"Some of the inputs have been misclassified, performing another iteration\\n\" >>\n",
    "      go labelledInputs ws False\n",
    "    go ((i, l):rest) ws iter\n",
    "      | (perceptron i ws 1.0) == l =\n",
    "        tell (show i ++ \" is classified correctly\\n\") >>\n",
    "        go rest ws iter\n",
    "      | (perceptron i ws 1.0) > l =\n",
    "        tell (show i ++ \" yielded a false positive, decrementing the weights\\n\") >>\n",
    "        go rest (ws - i) True\n",
    "      | (perceptron i ws 1.0) < l =\n",
    "        tell (show i ++ \" yielded a false negative, incrementing the weights\\n\") >>\n",
    "        go rest (ws + i) True\n",
    "        \n",
    "-- A helper function to print training results\n",
    "runSLP :: [Vector Double] -> [Double] -> IO ()\n",
    "runSLP inputs labels =\n",
    "  let labelledInputs = zip inputs labels\n",
    "      (weights, log) = runWriter $ learn labelledInputs (vector [0.0, 0.0])\n",
    "  in putStrLn (\"Training an SLP on \" ++ show labelledInputs) >>\n",
    "     putStrLn log >>\n",
    "     putStrLn (\"Final weights are \" ++ show weights)"
   ]
  },
  {
   "cell_type": "markdown",
   "metadata": {},
   "source": [
    "## Boolean AND"
   ]
  },
  {
   "cell_type": "code",
   "execution_count": 2,
   "metadata": {},
   "outputs": [
    {
     "data": {
      "text/plain": [
       "Training an SLP on [([0.0,0.0],0.0),([0.0,1.0],0.0),([1.0,0.0],0.0),([1.0,1.0],1.0)]\n",
       "[0.0,0.0] is classified correctly\n",
       "[0.0,1.0] is classified correctly\n",
       "[1.0,0.0] is classified correctly\n",
       "[1.0,1.0] yielded a false negative, incrementing the weights\n",
       "Some of the inputs have been misclassified, performing another iteration\n",
       "[0.0,0.0] is classified correctly\n",
       "[0.0,1.0] is classified correctly\n",
       "[1.0,0.0] is classified correctly\n",
       "[1.0,1.0] is classified correctly\n",
       "All inputs have been classified correctly, halting\n",
       "Final weights are [1.0,1.0]"
      ]
     },
     "metadata": {},
     "output_type": "display_data"
    }
   ],
   "source": [
    "inputs = [vector [a, b] | a <- [0, 1], b <- [0, 1]]\n",
    "\n",
    "labels = [binaryAnd a b | a <- [0, 1], b <- [0, 1]]\n",
    "  where binaryAnd 1 1 = 1.0\n",
    "        binaryAnd _ _ = 0.0\n",
    "\n",
    "runSLP inputs labels"
   ]
  },
  {
   "cell_type": "markdown",
   "metadata": {},
   "source": [
    "## Boolean OR"
   ]
  },
  {
   "cell_type": "code",
   "execution_count": 3,
   "metadata": {},
   "outputs": [
    {
     "data": {
      "text/plain": [
       "Training an SLP on [([0.0,0.0],0.0),([0.0,1.0],1.0),([1.0,0.0],1.0),([1.0,1.0],1.0)]\n",
       "[0.0,0.0] is classified correctly\n",
       "[0.0,1.0] yielded a false negative, incrementing the weights\n",
       "[1.0,0.0] yielded a false negative, incrementing the weights\n",
       "[1.0,1.0] is classified correctly\n",
       "Some of the inputs have been misclassified, performing another iteration\n",
       "[0.0,0.0] is classified correctly\n",
       "[0.0,1.0] yielded a false negative, incrementing the weights\n",
       "[1.0,0.0] yielded a false negative, incrementing the weights\n",
       "[1.0,1.0] is classified correctly\n",
       "Some of the inputs have been misclassified, performing another iteration\n",
       "[0.0,0.0] is classified correctly\n",
       "[0.0,1.0] is classified correctly\n",
       "[1.0,0.0] is classified correctly\n",
       "[1.0,1.0] is classified correctly\n",
       "All inputs have been classified correctly, halting\n",
       "Final weights are [2.0,2.0]"
      ]
     },
     "metadata": {},
     "output_type": "display_data"
    }
   ],
   "source": [
    "labels = [binaryOr a b | a <- [0, 1], b <- [0, 1]]\n",
    "  where binaryOr 0 0 = 0.0\n",
    "        binaryOr _ _ = 1.0\n",
    "\n",
    "runSLP inputs labels"
   ]
  }
 ],
 "metadata": {
  "kernelspec": {
   "display_name": "Haskell",
   "language": "haskell",
   "name": "haskell"
  },
  "language_info": {
   "codemirror_mode": "ihaskell",
   "file_extension": ".hs",
   "name": "haskell",
   "version": "8.2.2"
  }
 },
 "nbformat": 4,
 "nbformat_minor": 2
}
