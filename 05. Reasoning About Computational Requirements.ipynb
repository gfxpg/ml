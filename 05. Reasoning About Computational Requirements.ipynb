{
 "cells": [
  {
   "cell_type": "markdown",
   "metadata": {},
   "source": [
    "# Reasoning about computational requirements\n",
    "\n",
    "Calculating the number of model parameters allows us to estimate the computing power required to train the network and the amount of memory needed to store its parameters for inference, -- in other words, assess the\n",
    "performance.\n",
    "\n",
    "## Convolution layers\n",
    "\n",
    "A convolution layer accepts an input volume of size $I_H \\times I_W \\times I_D$ and produces an output volume of size $O_H \\times O_W \\times K$, where $K$ is the number of filters in the layer.\n",
    "\n",
    "A filter has a small width $F_W$ and height $F_H$ (such as $3\\times3$), but extends through the full depth of the input volume, $F_D = I_D$.\n",
    "\n",
    "The output volume is produced by sliding each filter over the width and height of the input, moving one or several pixels (_stride_ $S$) at a time. With $S = 1$, the output volume has the same width and height as the input, provided $F_{H,W} \\mid I_{H,W}$. If the filter size does not evenly divide the input size, the latter can be padded with $P$ zeroes along the border to preserve dimensions.\n",
    "\n",
    "Each filter produces a _feature map_ -- a matrix with every element corresponding to an activation at a certain spatial position. Its dimensions depend on input size, filter size, stride, and padding, and can be determined as\n",
    "\n",
    "$$O_{H,W} = \\frac{I_{H,W} − F_{H,W} + 2P_{H,W}}{S_{H,W}} + 1$$\n",
    "\n",
    "### Weights\n",
    "\n",
    "One filter has $F_{H} \\times F_{W} \\times I_{D}$ weights.\n",
    "\n",
    "### Forward-pass computations\n",
    "\n",
    "A single element in the output volume is a dot product of a filter (third-order tensor) and a slice (third-order tensor) of the input value. Therefore, it takes $F_H \\times F_W \\times I_D$ fused multiply-add (FMA) operations to compute it.\n",
    "\n",
    "When looking at the whole convolution layer, the number of FMAs is\n",
    "\n",
    "$$F_H \\times F_W \\times I_D \\times K \\times (\\frac{I_H − F_H + 2P_H}{S_H} + 1) \\times (\\frac{I_W − F_W + 2P_W}{S_W} + 1)$$"
   ]
  }
 ],
 "metadata": {
  "kernelspec": {
   "display_name": "Haskell",
   "language": "haskell",
   "name": "haskell"
  },
  "language_info": {
   "codemirror_mode": "ihaskell",
   "file_extension": ".hs",
   "name": "haskell",
   "version": "8.2.2"
  }
 },
 "nbformat": 4,
 "nbformat_minor": 2
}
