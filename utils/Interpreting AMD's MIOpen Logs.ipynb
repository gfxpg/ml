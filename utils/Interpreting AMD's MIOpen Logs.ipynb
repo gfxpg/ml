{
 "cells": [
  {
   "cell_type": "markdown",
   "metadata": {},
   "source": [
    "# Interpreting AMD's MIOpen Logs\n",
    "\n",
    "I'm going to inspect operation logs obtained by running a [TensorFlow CNN benchmark script](https://github.com/tensorflow/benchmarks/tree/master/scripts/tf_cnn_benchmarks) on a [ROCm TensorFlow port](https://github.com/ROCmSoftwarePlatform/tensorflow-upstream) with [`MIOPEN_ENABLE_LOGGING=1`](https://github.com/ROCmSoftwarePlatform/MIOpen/wiki/MIOpen-Environment-Variables) set in the environment.\n",
    "\n",
    "My goal is to extract a sequence of convolution, pooling, and batch normalization operations with corresponding parameters (tensor shapes) to verify the implementation correctness. The model I'm running is `resnet50`, with batch size set to `64` (the latter defines the `N` dimension).\n",
    "\n",
    "## Basic parsing routines\n",
    "\n",
    "The log file is read into memory and split by newline characters. Parsing routines transform the list of lines in-place: `next_operation` drops lines until encountering an operation header, `operation_name` extracts the operation name from the head of the line list and drops it, `operation_params` reads the operation parameters starting from the head of line list and advancing further until encountering the closing brace — you get the idea, once we go through the whole file, `len(lines)` should be `0`."
   ]
  },
  {
   "cell_type": "code",
   "execution_count": null,
   "metadata": {},
   "outputs": [],
   "source": [
    "def next_operation(lines):\n",
    "  while not lines[0].startswith(\"MIOpen(HIP)\"):\n",
    "    del lines[0]\n",
    "    if len(lines) == 0: return False\n",
    "  return True\n",
    "\n",
    "\n",
    "def operation_name(lines):\n",
    "  header = lines.pop(0)\n",
    "  op_name_args = header[28:] # skip 'MIOpen(HIP): miopenStatus_t '\n",
    "  return op_name_args.split('(')[0]\n",
    "\n",
    "\n",
    "def operation_params(lines):\n",
    "  params = {}\n",
    "  while True:\n",
    "    param_line = lines.pop(0)\n",
    "    if param_line == '}\\n': break\n",
    "    k, v = param_line.split(' = ')\n",
    "    params[k] = v[:-1] # drop newline\n",
    "  return params"
   ]
  },
  {
   "cell_type": "markdown",
   "metadata": {},
   "source": [
    "## Decoding operation parameters\n",
    "\n",
    "(Scarce) documentation is available for [convolution](https://github.com/ROCmSoftwarePlatform/MIOpen/wiki/MIOpen-Logger-to-Driver-Decoder-for-Convolutions), [pooling](https://github.com/ROCmSoftwarePlatform/MIOpen/wiki/MIOpen-Logger-to-Driver-Decoder-for-Pooling), and [batch normalization](https://github.com/ROCmSoftwarePlatform/MIOpen/wiki/MIOpen-Logger-to-Driver-Decoding-for-Batch-Normalization) operations."
   ]
  },
  {
   "cell_type": "code",
   "execution_count": null,
   "metadata": {},
   "outputs": [],
   "source": [
    "SUPPORTED_OPS = [\n",
    "  'miopenConvolutionForward',\n",
    "  'miopenBatchNormalizationForwardTraining',\n",
    "  'miopenPoolingForward'\n",
    "]\n",
    "\n",
    "OP_NAMES = {\n",
    "  'miopenConvolutionForward': 'Conv',\n",
    "  'miopenBatchNormalizationForwardTraining': 'BatchNorm',\n",
    "  'miopenPoolingMax': 'MaxPool'\n",
    "}\n",
    "\n",
    "def describe_operation(op_name, params):\n",
    "  if op_name == 'miopenConvolutionForward':\n",
    "    _, _, out_w, out_h = params['yDesc'].split(', ')\n",
    "    \n",
    "    out_chs, in_chs, kernel_w, kernel_h = params['wDesc'].split(', ')\n",
    "    \n",
    "    pad_h, pad_w, str_h, str_w, dil_h, dil_w, _ = params['convDesc'].split(', ')\n",
    "    \n",
    "    return [OP_NAMES[op_name], in_chs, out_chs, kernel_h, kernel_w, pad_h, str_h, out_h, out_w]\n",
    "  elif op_name == 'miopenBatchNormalizationForwardTraining':\n",
    "    _, in_chs, in_h, in_w = params['xDesc'].split(', ')\n",
    "    \n",
    "    return [OP_NAMES[op_name], in_chs, in_chs, '', '', '', '', in_h, in_w]\n",
    "  elif op_name == 'miopenPoolingForward':\n",
    "    _, in_chs, _, _ = params['xDesc'].split(', ')\n",
    "    \n",
    "    _, _, out_h, out_w = params['yDesc'].split(', ')\n",
    "    \n",
    "    pool_type, kernel_h, kernel_w, pad_h, pad_w, str_h, str_w, _ = params['poolDesc'].split(', ')\n",
    "    \n",
    "    return [OP_NAMES[pool_type], in_chs, in_chs, kernel_h, kernel_w, pad_h, str_h, out_h, out_w]"
   ]
  },
  {
   "cell_type": "markdown",
   "metadata": {},
   "source": [
    "## Gluing everything together"
   ]
  },
  {
   "cell_type": "code",
   "execution_count": null,
   "metadata": {},
   "outputs": [],
   "source": [
    "def extract_operation_sequence(log_path):\n",
    "  operation_sequence = []\n",
    "  \n",
    "  with open(log_path) as f:\n",
    "    lines = f.readlines()\n",
    "  \n",
    "  while next_operation(lines):\n",
    "    op_name = operation_name(lines)\n",
    "    if op_name in SUPPORTED_OPS:\n",
    "      params = operation_params(lines)\n",
    "      operation_sequence.append(\n",
    "        describe_operation(op_name, params))\n",
    "\n",
    "  return operation_sequence"
   ]
  },
  {
   "cell_type": "code",
   "execution_count": null,
   "metadata": {},
   "outputs": [],
   "source": [
    "seq = extract_operation_sequence('./resnet50_b64_stdout_miopen_logging_no_warmup')\n",
    "for d in seq[len(seq) - 108:-1]: print(','.join(d))"
   ]
  }
 ],
 "metadata": {
  "kernelspec": {
   "display_name": "Python 3",
   "language": "python",
   "name": "python3"
  },
  "language_info": {
   "codemirror_mode": {
    "name": "ipython",
    "version": 3
   },
   "file_extension": ".py",
   "mimetype": "text/x-python",
   "name": "python",
   "nbconvert_exporter": "python",
   "pygments_lexer": "ipython3",
   "version": "3.6.6"
  }
 },
 "nbformat": 4,
 "nbformat_minor": 2
}
