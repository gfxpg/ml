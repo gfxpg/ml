{
 "cells": [
  {
   "cell_type": "markdown",
   "metadata": {},
   "source": [
    "# Deep Residual Networks\n",
    "\n",
    "Increasing the number of layers in CNNs has been observed to increase training errors.\n",
    "\n",
    "In theory, a deeper model should have at least the same error rate as the shallower counterpart, since the additional layers can perform _identity mapping_ (pass the input to the output without any transformations). In practice, optimization algorithms fail to find the optimal solution when going deeper.\n",
    "\n",
    "The solution proposed in [Deep Residual Learning for Image Recognition](https://arxiv.org/pdf/1512.03385.pdf) builds upon an assumption that the optimal function being modelled by a block of layers is closer to an identity mapping ($F(x) = x$) of the input as opposed to something that produces completely unrelated output.\n",
    "\n",
    "<img src=\"res/resblock.svg\" width=\"360\">\n",
    "\n",
    "_(Left: layers that learn an unreferenced function $H(x)$, right: layers that learn a residual function $F(x)$ with reference to the input)_\n",
    "\n",
    "Residual networks have _shortcut connections_ (those that skip one or more layers) that perform identity mapping, with their outputs added element-wise to the outputs of skipped layers. These connections introduce no additional parameters to be learned.\n",
    "\n",
    "Residual functions are learned by two or more layers. If a function is learned by a single layer, $F(x) + x$ becomes $w^T x + x$, for which the authors remark to have observed no advantages compared to a plain layer. Experiments in the paper involve functions that have two or three layers. Layers can be convolutional, in which case \"element-wise addition is performed on two feature maps, channel by channel\"."
   ]
  }
 ],
 "metadata": {
  "kernelspec": {
   "display_name": "Python 3",
   "language": "python",
   "name": "python3"
  },
  "language_info": {
   "codemirror_mode": {
    "name": "ipython",
    "version": 3
   },
   "file_extension": ".py",
   "mimetype": "text/x-python",
   "name": "python",
   "nbconvert_exporter": "python",
   "pygments_lexer": "ipython3",
   "version": "3.6.5"
  }
 },
 "nbformat": 4,
 "nbformat_minor": 2
}
